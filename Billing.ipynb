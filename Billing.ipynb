{
 "cells": [
  {
   "cell_type": "code",
   "execution_count": 1,
   "metadata": {},
   "outputs": [],
   "source": [
    "def write_sales_log(order,file):\n",
    "    total = 0\n",
    "    name= \"Name of item\"\n",
    "    num = \"Number of items\"\n",
    "    cost = \"Price\"\n",
    "    total_num = \"Total price\"\n",
    "    file.write(\"More Super Market\\n\\n\")\n",
    "    file.write(f'{name:{10}} {num:^30}{cost:^10}{total_num:>7}' +'\\n')\n",
    "    for item, price in order.items():\n",
    "        tot_price = price[1]*price[0]\n",
    "        file.write(f'{item:{10}} {price[0]:^30} {price[1]:^10} {tot_price:>7}'+'\\n')\n",
    "        total += tot_price\n",
    "   \n",
    "    file.write('\\n'+'Total = '+ format(total, '.2f')+'\\n')\n",
    "    file\n",
    "    file.close()"
   ]
  },
  {
   "cell_type": "code",
   "execution_count": 4,
   "metadata": {},
   "outputs": [],
   "source": [
    "bill = {\"Tea\" :[2,30] , \"juice\" : [4,50] , \"Fruits\" : [10,10]}\n",
    "file = open('sales.txt', 'w')\n",
    "write_sales_log(bill,file)"
   ]
  },
  {
   "cell_type": "code",
   "execution_count": null,
   "metadata": {},
   "outputs": [],
   "source": []
  }
 ],
 "metadata": {
  "kernelspec": {
   "display_name": "Python 3",
   "language": "python",
   "name": "python3"
  },
  "language_info": {
   "codemirror_mode": {
    "name": "ipython",
    "version": 3
   },
   "file_extension": ".py",
   "mimetype": "text/x-python",
   "name": "python",
   "nbconvert_exporter": "python",
   "pygments_lexer": "ipython3",
   "version": "3.8.5"
  }
 },
 "nbformat": 4,
 "nbformat_minor": 4
}
