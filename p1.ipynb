{
  "nbformat": 4,
  "nbformat_minor": 0,
  "metadata": {
    "colab": {
      "name": "p1.ipynb",
      "provenance": [],
      "authorship_tag": "ABX9TyMB8eJitKrQW6MramXDjj1I",
      "include_colab_link": true
    },
    "kernelspec": {
      "name": "python3",
      "display_name": "Python 3"
    },
    "language_info": {
      "name": "python"
    }
  },
  "cells": [
    {
      "cell_type": "markdown",
      "metadata": {
        "id": "view-in-github",
        "colab_type": "text"
      },
      "source": [
        "<a href=\"https://colab.research.google.com/github/SupriyaPradhan18/programgit/blob/main/p1.ipynb\" target=\"_parent\"><img src=\"https://colab.research.google.com/assets/colab-badge.svg\" alt=\"Open In Colab\"/></a>"
      ]
    },
    {
      "cell_type": "code",
      "metadata": {
        "colab": {
          "base_uri": "https://localhost:8080/"
        },
        "id": "MuVAxeDHyWXL",
        "outputId": "abf73f8a-fc00-4292-bbf2-cc7a93220940"
      },
      "source": [
        "2+3"
      ],
      "execution_count": 1,
      "outputs": [
        {
          "output_type": "execute_result",
          "data": {
            "text/plain": [
              "5"
            ]
          },
          "metadata": {
            "tags": []
          },
          "execution_count": 1
        }
      ]
    },
    {
      "cell_type": "code",
      "metadata": {
        "colab": {
          "base_uri": "https://localhost:8080/"
        },
        "id": "r7a_YdLi0VYZ",
        "outputId": "fc25e4d3-5769-40a6-a261-7f47b7eff28f"
      },
      "source": [
        "x=8\n",
        "y=9\n",
        "print(x*y)"
      ],
      "execution_count": 2,
      "outputs": [
        {
          "output_type": "stream",
          "text": [
            "72\n"
          ],
          "name": "stdout"
        }
      ]
    },
    {
      "cell_type": "code",
      "metadata": {
        "colab": {
          "base_uri": "https://localhost:8080/"
        },
        "id": "MztrhrDw0dnY",
        "outputId": "5c799e9f-e03f-48c8-f666-83587e61e417"
      },
      "source": [
        "a=3\n",
        "b=2\n",
        "print(a/b)"
      ],
      "execution_count": 3,
      "outputs": [
        {
          "output_type": "stream",
          "text": [
            "1.5\n"
          ],
          "name": "stdout"
        }
      ]
    },
    {
      "cell_type": "code",
      "metadata": {
        "colab": {
          "base_uri": "https://localhost:8080/"
        },
        "id": "wjwpXhWi1Fml",
        "outputId": "37b99d94-abbb-4c07-d80e-b5b0e5e36c1e"
      },
      "source": [
        "a=10\n",
        "b=20\n",
        "print(a%b)"
      ],
      "execution_count": 4,
      "outputs": [
        {
          "output_type": "stream",
          "text": [
            "10\n"
          ],
          "name": "stdout"
        }
      ]
    },
    {
      "cell_type": "code",
      "metadata": {
        "colab": {
          "base_uri": "https://localhost:8080/"
        },
        "id": "jWc4oSWI2LHh",
        "outputId": "5eb5b78b-1502-41f9-88b4-bcd6d1546350"
      },
      "source": [
        "a=10\n",
        "b=20\n",
        "print(a**b)"
      ],
      "execution_count": 5,
      "outputs": [
        {
          "output_type": "stream",
          "text": [
            "100000000000000000000\n"
          ],
          "name": "stdout"
        }
      ]
    }
  ]
}