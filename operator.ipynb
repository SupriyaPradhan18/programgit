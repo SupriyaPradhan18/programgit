{
  "nbformat": 4,
  "nbformat_minor": 0,
  "metadata": {
    "colab": {
      "name": "operator.ipynb",
      "provenance": [],
      "authorship_tag": "ABX9TyM78i7trqrhZ8Cq5TS3DHhd",
      "include_colab_link": true
    },
    "kernelspec": {
      "name": "python3",
      "display_name": "Python 3"
    },
    "language_info": {
      "name": "python"
    }
  },
  "cells": [
    {
      "cell_type": "markdown",
      "metadata": {
        "id": "view-in-github",
        "colab_type": "text"
      },
      "source": [
        "<a href=\"https://colab.research.google.com/github/SupriyaPradhan18/programgit/blob/main/operator.ipynb\" target=\"_parent\"><img src=\"https://colab.research.google.com/assets/colab-badge.svg\" alt=\"Open In Colab\"/></a>"
      ]
    },
    {
      "cell_type": "code",
      "metadata": {
        "colab": {
          "base_uri": "https://localhost:8080/"
        },
        "id": "hxySFbW35s3l",
        "outputId": "43ac1b9d-7562-453c-d91d-4f7c9bd14210"
      },
      "source": [
        "a=13\n",
        "b=33\n",
        "print(a>b)"
      ],
      "execution_count": null,
      "outputs": [
        {
          "output_type": "stream",
          "text": [
            "False\n"
          ],
          "name": "stdout"
        }
      ]
    },
    {
      "cell_type": "code",
      "metadata": {
        "colab": {
          "base_uri": "https://localhost:8080/"
        },
        "id": "IFeIwxnj6B6g",
        "outputId": "95a54a95-b64f-44fa-a54b-15a4658aef6d"
      },
      "source": [
        "a=2\n",
        "b=7\n",
        "print(a<b)"
      ],
      "execution_count": null,
      "outputs": [
        {
          "output_type": "stream",
          "text": [
            "True\n"
          ],
          "name": "stdout"
        }
      ]
    },
    {
      "cell_type": "code",
      "metadata": {
        "colab": {
          "base_uri": "https://localhost:8080/"
        },
        "id": "89qCXaXv6KDM",
        "outputId": "ee493cbb-60c7-428f-a50e-b8284fa3debc"
      },
      "source": [
        "a=12\n",
        "b=9\n",
        "print(a>=b)"
      ],
      "execution_count": null,
      "outputs": [
        {
          "output_type": "stream",
          "text": [
            "True\n"
          ],
          "name": "stdout"
        }
      ]
    },
    {
      "cell_type": "code",
      "metadata": {
        "colab": {
          "base_uri": "https://localhost:8080/"
        },
        "id": "qn5e1vEt6SLI",
        "outputId": "25bc619a-b275-4391-a37e-25c86f49ae76"
      },
      "source": [
        "a=True\n",
        "b=False\n",
        "print(a and b)"
      ],
      "execution_count": null,
      "outputs": [
        {
          "output_type": "stream",
          "text": [
            "False\n"
          ],
          "name": "stdout"
        }
      ]
    },
    {
      "cell_type": "code",
      "metadata": {
        "colab": {
          "base_uri": "https://localhost:8080/"
        },
        "id": "c-pUaJds6dgU",
        "outputId": "96524132-c5af-452d-8640-4a9bee4eb1c8"
      },
      "source": [
        "a=True\n",
        "b=False\n",
        "print(a or b)\n"
      ],
      "execution_count": null,
      "outputs": [
        {
          "output_type": "stream",
          "text": [
            "True\n"
          ],
          "name": "stdout"
        }
      ]
    },
    {
      "cell_type": "code",
      "metadata": {
        "colab": {
          "base_uri": "https://localhost:8080/"
        },
        "id": "h6VecKtD6jyN",
        "outputId": "cecf73a5-5b48-4cdc-aaf3-b4078233218b"
      },
      "source": [
        "a=True\n",
        "b=False\n",
        "print(not a)"
      ],
      "execution_count": null,
      "outputs": [
        {
          "output_type": "stream",
          "text": [
            "False\n"
          ],
          "name": "stdout"
        }
      ]
    },
    {
      "cell_type": "code",
      "metadata": {
        "colab": {
          "base_uri": "https://localhost:8080/"
        },
        "id": "MEnKdy9e6q9F",
        "outputId": "44dae436-666a-4fdc-c5d4-82d7c40a7e78"
      },
      "source": [
        "a=10\n",
        "b=4\n",
        "print(a&b)"
      ],
      "execution_count": null,
      "outputs": [
        {
          "output_type": "stream",
          "text": [
            "0\n"
          ],
          "name": "stdout"
        }
      ]
    },
    {
      "cell_type": "code",
      "metadata": {
        "colab": {
          "base_uri": "https://localhost:8080/"
        },
        "id": "wejhmn8M6rKJ",
        "outputId": "7d5bf437-efbc-4953-cbd2-e5daaeb67c9c"
      },
      "source": [
        "a=10\n",
        "b=4\n",
        "print(a | b)"
      ],
      "execution_count": null,
      "outputs": [
        {
          "output_type": "stream",
          "text": [
            "14\n"
          ],
          "name": "stdout"
        }
      ]
    },
    {
      "cell_type": "code",
      "metadata": {
        "colab": {
          "base_uri": "https://localhost:8080/"
        },
        "id": "0jNqZm5H66vC",
        "outputId": "d6e41fa5-fd6c-4845-f892-17e2f343e748"
      },
      "source": [
        "a=10\n",
        "b=4\n",
        "print(~a)"
      ],
      "execution_count": null,
      "outputs": [
        {
          "output_type": "stream",
          "text": [
            "-11\n"
          ],
          "name": "stdout"
        }
      ]
    },
    {
      "cell_type": "code",
      "metadata": {
        "colab": {
          "base_uri": "https://localhost:8080/"
        },
        "id": "0oJASVqA7O8Q",
        "outputId": "20756875-9656-40a7-9293-70e6ddbfd67c"
      },
      "source": [
        "a=10\n",
        "b=4\n",
        "print(a^b)"
      ],
      "execution_count": null,
      "outputs": [
        {
          "output_type": "stream",
          "text": [
            "14\n"
          ],
          "name": "stdout"
        }
      ]
    },
    {
      "cell_type": "code",
      "metadata": {
        "colab": {
          "base_uri": "https://localhost:8080/"
        },
        "id": "Pszts7Hd7UWF",
        "outputId": "5be2b084-9af5-4ed2-c39c-bcda1de7df86"
      },
      "source": [
        "a=10\n",
        "b=4\n",
        "print(a>>2)"
      ],
      "execution_count": null,
      "outputs": [
        {
          "output_type": "stream",
          "text": [
            "2\n"
          ],
          "name": "stdout"
        }
      ]
    }
  ]
}